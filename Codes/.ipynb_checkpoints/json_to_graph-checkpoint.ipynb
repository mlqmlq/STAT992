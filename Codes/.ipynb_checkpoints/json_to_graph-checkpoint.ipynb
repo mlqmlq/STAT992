{
 "cells": [
  {
   "cell_type": "code",
   "execution_count": 1,
   "metadata": {},
   "outputs": [],
   "source": [
    "from json import loads\n",
    "import os\n",
    "import networkx as ntx\n",
    "import numpy as np\n",
    "import pandas as pd\n",
    "import matplotlib.pyplot as plt\n",
    "import re\n",
    "from sklearn.cluster import SpectralClustering"
   ]
  },
  {
   "cell_type": "code",
   "execution_count": 2,
   "metadata": {},
   "outputs": [],
   "source": [
    "data = pd.read_csv(\"stat.csv\")\n",
    "m = len(data.index)\n",
    "G = ntx.DiGraph()\n",
    "papers = {}\n",
    "authors = {}\n",
    "regex = re.compile('[^a-zA-Z,. 0123456789''\"\"{}\\[\\]:]')\n",
    "for i in range(m):\n",
    "    if i in [6096, 10793, 19723, 21578, 22392, 25880]:\n",
    "        continue\n",
    "    paper_id = data[\"id\"][i]\n",
    "    paper_incite = data[\"inCitations\"][i][1:-1]\n",
    "    if not paper_incite:\n",
    "        paper_incite = []\n",
    "    else:\n",
    "        paper_incite = paper_incite.split(\", \")\n",
    "        for j in range(len(paper_incite)):\n",
    "            paper_incite[j] = paper_incite[j][1:-1]\n",
    "    paper_author = []\n",
    "    tmp_dict = data[\"authors\"][i][1:-1]\n",
    "    tmp_dict = tmp_dict.split(\"}, \")\n",
    "    for j in range(len(tmp_dict)):\n",
    "        if tmp_dict[j][-1] != \"}\":\n",
    "            tmp_dict[j] += \"}\"\n",
    "        tmp_dict[j] = tmp_dict[j].replace(\"'\", '\"')\n",
    "        tmp_dict[j] = regex.sub('', tmp_dict[j])\n",
    "        k = 0\n",
    "        while k < len(tmp_dict[j]):\n",
    "            if tmp_dict[j][k] == '\"' and tmp_dict[j][k-1].isalnum() and tmp_dict[j][k+1].isalnum():\n",
    "                tmp_dict[j] = tmp_dict[j][:k] + tmp_dict[j][k+1:]\n",
    "            k += 1\n",
    "        tmp_dict[j] = loads(tmp_dict[j])\n",
    "    for tmp in tmp_dict:\n",
    "        if not tmp[\"ids\"]:\n",
    "            continue\n",
    "        paper_author.append(tmp[\"ids\"][0])\n",
    "        authors[tmp[\"ids\"][0]] = tmp[\"name\"] \n",
    "    papers[paper_id] = [paper_incite, paper_author]\n",
    "del data\n"
   ]
  },
  {
   "cell_type": "code",
   "execution_count": 3,
   "metadata": {},
   "outputs": [],
   "source": [
    "G.add_nodes_from(authors.keys())\n",
    "for out_id in papers:\n",
    "    #print(out_id)\n",
    "    if not papers[out_id][0] or not papers[out_id][1]:\n",
    "        continue\n",
    "    for in_id in papers[out_id][0]:\n",
    "        if in_id not in papers or not papers[in_id][1]:\n",
    "            continue\n",
    "        for author_id in papers[out_id][1]:\n",
    "            G.add_edges_from([(i, author_id) for i in papers[in_id][1]])\n",
    "removal = set()\n",
    "for node in G.nodes:\n",
    "    if G.degree(node) == 0:\n",
    "        removal.add(node)\n",
    "G.remove_nodes_from(removal)"
   ]
  },
  {
   "cell_type": "code",
   "execution_count": 4,
   "metadata": {},
   "outputs": [
    {
     "name": "stdout",
     "output_type": "stream",
     "text": [
      "114000\n",
      "9054\n"
     ]
    }
   ],
   "source": [
    "print(G.number_of_edges())\n",
    "print(G.number_of_nodes())"
   ]
  },
  {
   "cell_type": "code",
   "execution_count": 5,
   "metadata": {},
   "outputs": [
    {
     "name": "stderr",
     "output_type": "stream",
     "text": [
      "/Library/Frameworks/Python.framework/Versions/3.7/lib/python3.7/site-packages/sklearn/manifold/_spectral_embedding.py:212: UserWarning: Array is not symmetric, and will be converted to symmetric by average with its transpose.\n",
      "  adjacency = check_symmetric(adjacency)\n",
      "/Library/Frameworks/Python.framework/Versions/3.7/lib/python3.7/site-packages/sklearn/manifold/_spectral_embedding.py:236: UserWarning: Graph is not fully connected, spectral embedding may not work as expected.\n",
      "  warnings.warn(\"Graph is not fully connected, spectral embedding\"\n"
     ]
    },
    {
     "data": {
      "text/plain": [
       "SpectralClustering(affinity='precomputed', assign_labels='kmeans', coef0=1,\n",
       "                   degree=3, eigen_solver=None, eigen_tol=0.0, gamma=1.0,\n",
       "                   kernel_params=None, n_clusters=10, n_components=None,\n",
       "                   n_init=100, n_jobs=None, n_neighbors=10, random_state=None)"
      ]
     },
     "execution_count": 5,
     "metadata": {},
     "output_type": "execute_result"
    }
   ],
   "source": [
    "## Clustering\n",
    "adj_mat = ntx.to_numpy_matrix(G)\n",
    "sc = SpectralClustering(10, affinity='precomputed', n_init=100)\n",
    "sc.fit(adj_mat)"
   ]
  },
  {
   "cell_type": "code",
   "execution_count": 6,
   "metadata": {},
   "outputs": [],
   "source": [
    "## Save nodes\n",
    "import csv\n",
    "with open('Authors.csv', 'w') as f:\n",
    "    for key in G.nodes:\n",
    "        f.write(\"%s,%s\\n\"%(key,authors[key]))\n",
    "with open('Edges.csv', 'w') as f:\n",
    "    for key in G.edges:\n",
    "        f.write(\"%s,%s\\n\"%(key[0],key[1]))"
   ]
  },
  {
   "cell_type": "code",
   "execution_count": 7,
   "metadata": {},
   "outputs": [
    {
     "name": "stdout",
     "output_type": "stream",
     "text": [
      "Bin Yu\n"
     ]
    }
   ],
   "source": [
    "print(authors[\"144923779\"])"
   ]
  },
  {
   "cell_type": "code",
   "execution_count": null,
   "metadata": {},
   "outputs": [],
   "source": []
  }
 ],
 "metadata": {
  "kernelspec": {
   "display_name": "Python 3",
   "language": "python",
   "name": "python3"
  },
  "language_info": {
   "codemirror_mode": {
    "name": "ipython",
    "version": 3
   },
   "file_extension": ".py",
   "mimetype": "text/x-python",
   "name": "python",
   "nbconvert_exporter": "python",
   "pygments_lexer": "ipython3",
   "version": "3.7.0"
  }
 },
 "nbformat": 4,
 "nbformat_minor": 2
}
