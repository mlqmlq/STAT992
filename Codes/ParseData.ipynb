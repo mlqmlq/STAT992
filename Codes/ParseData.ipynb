{
 "cells": [
  {
   "cell_type": "code",
   "execution_count": 1,
   "metadata": {},
   "outputs": [],
   "source": [
    "from json import loads\n",
    "import os\n",
    "data = [loads(line) for line in open('out.json', 'r')]"
   ]
  },
  {
   "cell_type": "code",
   "execution_count": 2,
   "metadata": {},
   "outputs": [],
   "source": [
    "if os.path.exists(\"Paper.txt\"):\n",
    "    os.remove(\"Paper.txt\")\n",
    "if os.path.exists(\"Author.txt\"):\n",
    "    os.remove(\"Author.txt\")\n",
    "if os.path.exists(\"Field.txt\"):\n",
    "    os.remove(\"Field.txt\")\n",
    "if os.path.exists(\"Citation.txt\"):\n",
    "    os.remove(\"Citation.txt\")\n",
    "Paper = open(\"Paper.txt\",\"a\")\n",
    "Author = open(\"Author.txt\",\"a\")\n",
    "Field = open('Field.txt',\"a\")\n",
    "Cite = open('Citation.txt',\"a\")\n",
    "Paper.write('Id'+'|'+'Year'+'|'+'Journal'+'|'+'Title'+'|'+'Abstract'+'\\n')\n",
    "Author.write('PaperID'+'|'+'AuthorID'+'|'+'AuthorName'+'\\n')\n",
    "Field.write('PaperID'+'|'+'field'+'\\n')\n",
    "Cite.write('PaperID'+'|'+'InCiteId'+'\\n')\n",
    "Paper.close()\n",
    "Author.close()\n",
    "Field.close()\n",
    "Cite.close()"
   ]
  },
  {
   "cell_type": "code",
   "execution_count": 3,
   "metadata": {},
   "outputs": [],
   "source": [
    "Paper = open(\"Paper.txt\",\"a\")\n",
    "Author = open(\"Author.txt\",\"a\")\n",
    "Field = open(\"Field.txt\",\"a\")\n",
    "Cite = open(\"Citation.txt\",\"a\")\n",
    "for item in data:\n",
    "    id = item['id']\n",
    "    year = item['year']\n",
    "    journal = item['journalName']\n",
    "    title = item['title']\n",
    "    abstract = item['paperAbstract']\n",
    "    # list\n",
    "    field = item['fieldsOfStudy']\n",
    "    authors = item['authors']\n",
    "    inCitations = item['inCitations']\n",
    "    Paper.write(id+'|'+str(year)+'|'+journal+'|'+title+'|'+abstract+'\\n')\n",
    "    # field    \n",
    "    for f in field:\n",
    "        Field.write(id+'|'+f+'\\n')\n",
    "    # author\n",
    "    for author in authors:\n",
    "        try:\n",
    "            AuthorId = author['ids'][0]\n",
    "        except:\n",
    "            AuthorId = ''\n",
    "        Author.write(id+'|'+AuthorId+'|'+author['name']+'\\n')\n",
    "    # citation\n",
    "    for cite in inCitations:\n",
    "        Cite.write(id+'|'+cite+'\\n')\n",
    "Field.close()\n",
    "Author.close()\n",
    "Cite.close()\n",
    "Paper.close()"
   ]
  },
  {
   "cell_type": "code",
   "execution_count": 3,
   "metadata": {},
   "outputs": [
    {
     "data": {
      "text/plain": [
       "dict"
      ]
     },
     "execution_count": 3,
     "metadata": {},
     "output_type": "execute_result"
    }
   ],
   "source": [
    "type(data[0])"
   ]
  },
  {
   "cell_type": "code",
   "execution_count": null,
   "metadata": {},
   "outputs": [],
   "source": []
  }
 ],
 "metadata": {
  "kernelspec": {
   "display_name": "Python 3",
   "language": "python",
   "name": "python3"
  },
  "language_info": {
   "codemirror_mode": {
    "name": "ipython",
    "version": 3
   },
   "file_extension": ".py",
   "mimetype": "text/x-python",
   "name": "python",
   "nbconvert_exporter": "python",
   "pygments_lexer": "ipython3",
   "version": "3.7.0"
  }
 },
 "nbformat": 4,
 "nbformat_minor": 4
}
