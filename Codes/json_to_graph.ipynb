{
 "cells": [
  {
   "cell_type": "code",
   "execution_count": 19,
   "metadata": {},
   "outputs": [],
   "source": [
    "from json import loads\n",
    "import os\n",
    "import networkx as ntx\n",
    "import numpy as np\n",
    "import matplotlib.pyplot as plt\n",
    "from sklearn.cluster import SpectralClustering"
   ]
  },
  {
   "cell_type": "code",
   "execution_count": 2,
   "metadata": {},
   "outputs": [],
   "source": [
    "data = [loads(line) for line in open('out.json', 'r')]\n",
    "G = ntx.DiGraph()\n",
    "papers = {}\n",
    "authors = {}\n",
    "for item in data:\n",
    "    paper_id = item[\"id\"]\n",
    "    paper_incite = item[\"inCitations\"]\n",
    "    tmp = item[\"authors\"]\n",
    "    paper_author = []\n",
    "    for t in tmp:\n",
    "        try:\n",
    "            AuthorId = t['ids'][0]\n",
    "        except:\n",
    "            AuthorId = ''\n",
    "        authors[AuthorId] = t[\"name\"]\n",
    "        paper_author.append(AuthorId)\n",
    "    papers[paper_id] = [paper_incite, paper_author]\n",
    "#print(papers['81fe230c5f241d1dd37b9ebc05db118c1a010c3e'])\n",
    "del data\n",
    "G.add_nodes_from(authors.keys())\n",
    "for out_id in papers:\n",
    "    #print(out_id)\n",
    "    if not papers[out_id][0] or not papers[out_id][1]:\n",
    "        continue\n",
    "    for in_id in papers[out_id][0]:\n",
    "        if in_id not in papers or not papers[in_id][1]:\n",
    "            continue\n",
    "        for author_id in papers[out_id][1]:\n",
    "            G.add_edges_from([(author_id, i) for i in papers[in_id][1]])\n",
    "removal = set()\n",
    "for node in G.nodes:\n",
    "    if G.degree(node) == 0:\n",
    "        removal.add(node)\n",
    "G.remove_nodes_from(removal)"
   ]
  },
  {
   "cell_type": "code",
   "execution_count": 15,
   "metadata": {},
   "outputs": [
    {
     "name": "stdout",
     "output_type": "stream",
     "text": [
      "22167\n",
      "9464\n"
     ]
    }
   ],
   "source": [
    "print(G.number_of_edges()\n",
    "print(G.number_of_nodes())"
   ]
  },
  {
   "cell_type": "code",
   "execution_count": 17,
   "metadata": {},
   "outputs": [
    {
     "name": "stderr",
     "output_type": "stream",
     "text": [
      "/Library/Frameworks/Python.framework/Versions/3.7/lib/python3.7/site-packages/sklearn/manifold/_spectral_embedding.py:212: UserWarning: Array is not symmetric, and will be converted to symmetric by average with its transpose.\n",
      "  adjacency = check_symmetric(adjacency)\n",
      "/Library/Frameworks/Python.framework/Versions/3.7/lib/python3.7/site-packages/sklearn/manifold/_spectral_embedding.py:236: UserWarning: Graph is not fully connected, spectral embedding may not work as expected.\n",
      "  warnings.warn(\"Graph is not fully connected, spectral embedding\"\n"
     ]
    },
    {
     "data": {
      "text/plain": [
       "SpectralClustering(affinity='precomputed', assign_labels='kmeans', coef0=1,\n",
       "                   degree=3, eigen_solver=None, eigen_tol=0.0, gamma=1.0,\n",
       "                   kernel_params=None, n_clusters=10, n_components=None,\n",
       "                   n_init=100, n_jobs=None, n_neighbors=10, random_state=None)"
      ]
     },
     "execution_count": 17,
     "metadata": {},
     "output_type": "execute_result"
    }
   ],
   "source": [
    "## Clustering\n",
    "adj_mat = ntx.to_numpy_matrix(G)\n",
    "sc = SpectralClustering(10, affinity='precomputed', n_init=100)\n",
    "sc.fit(adj_mat)"
   ]
  },
  {
   "cell_type": "code",
   "execution_count": 34,
   "metadata": {},
   "outputs": [],
   "source": [
    "## Save nodes\n",
    "import csv\n",
    "with open('Authors.csv', 'w') as f:\n",
    "    for key in G.nodes:\n",
    "        f.write(\"%s,%s\\n\"%(key,authors[key]))\n",
    "with open('Edges.csv', 'w') as f:\n",
    "    for key in G.edges:\n",
    "        f.write(\"%s,%s\\n\"%(key[0],key[1]))"
   ]
  },
  {
   "cell_type": "code",
   "execution_count": null,
   "metadata": {},
   "outputs": [],
   "source": []
  }
 ],
 "metadata": {
  "kernelspec": {
   "display_name": "Python 3",
   "language": "python",
   "name": "python3"
  },
  "language_info": {
   "codemirror_mode": {
    "name": "ipython",
    "version": 3
   },
   "file_extension": ".py",
   "mimetype": "text/x-python",
   "name": "python",
   "nbconvert_exporter": "python",
   "pygments_lexer": "ipython3",
   "version": "3.7.0"
  }
 },
 "nbformat": 4,
 "nbformat_minor": 2
}
